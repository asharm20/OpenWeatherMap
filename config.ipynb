{
 "cells": [
  {
   "cell_type": "code",
   "execution_count": 10,
   "metadata": {},
   "outputs": [
    {
     "name": "stdout",
     "output_type": "stream",
     "text": [
      "{'1': (707860, 'Hurzuf', 'UA'), '2': (519188, 'Novinki', 'RU'), '3': (1283378, 'Gorkhā', 'NP'), '4': (1270260, 'State of Haryāna', 'IN'), '5': (708546, 'Holubynka', 'UA'), '6': (1283710, 'Bāgmatī Zone', 'NP'), '7': (529334, 'Mar’ina Roshcha', 'RU')}\n"
     ]
    }
   ],
   "source": [
    "\n",
    "\n",
    "Location_id = {\n",
    "     \"1\": (707860,\"Hurzuf\", \"UA\")   ,\n",
    "     \"2\": (519188,\"Novinki\",\"RU\")   ,\n",
    "     \"3\": (1283378,\"Gorkhā\", \"NP\")   ,\n",
    "     \"4\": (1270260,\"State of Haryāna\", \"IN\")   ,\n",
    "     \"5\": (708546,\"Holubynka\", \"UA\")   ,\n",
    "     \"6\": (1283710,\"Bāgmatī Zone\",  \"NP\")   ,\n",
    "     \"7\": (529334,\"Mar’ina Roshcha\", \"RU\")   ,\n",
    "}\n"
   ]
  },
  {
   "cell_type": "code",
   "execution_count": null,
   "metadata": {},
   "outputs": [],
   "source": []
  }
 ],
 "metadata": {
  "kernelspec": {
   "display_name": "Python 3",
   "language": "python",
   "name": "python3"
  },
  "language_info": {
   "codemirror_mode": {
    "name": "ipython",
    "version": 3
   },
   "file_extension": ".py",
   "mimetype": "text/x-python",
   "name": "python",
   "nbconvert_exporter": "python",
   "pygments_lexer": "ipython3",
   "version": "3.6.0"
  }
 },
 "nbformat": 4,
 "nbformat_minor": 2
}
